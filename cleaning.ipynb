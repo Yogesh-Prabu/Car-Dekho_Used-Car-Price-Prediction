{
 "cells": [
  {
   "cell_type": "code",
   "execution_count": 281,
   "metadata": {},
   "outputs": [],
   "source": [
    "import pandas as pd"
   ]
  },
  {
   "cell_type": "code",
   "execution_count": 282,
   "metadata": {},
   "outputs": [],
   "source": [
    "df = pd.read_excel(r\"processed_df.xlsx\",engine=\"openpyxl\")"
   ]
  },
  {
   "cell_type": "code",
   "execution_count": 283,
   "metadata": {},
   "outputs": [
    {
     "data": {
      "text/html": [
       "<div>\n",
       "<style scoped>\n",
       "    .dataframe tbody tr th:only-of-type {\n",
       "        vertical-align: middle;\n",
       "    }\n",
       "\n",
       "    .dataframe tbody tr th {\n",
       "        vertical-align: top;\n",
       "    }\n",
       "\n",
       "    .dataframe thead th {\n",
       "        text-align: right;\n",
       "    }\n",
       "</style>\n",
       "<table border=\"1\" class=\"dataframe\">\n",
       "  <thead>\n",
       "    <tr style=\"text-align: right;\">\n",
       "      <th></th>\n",
       "      <th>city</th>\n",
       "      <th>transmission</th>\n",
       "      <th>ownerNo</th>\n",
       "      <th>oem</th>\n",
       "      <th>model</th>\n",
       "      <th>modelYear</th>\n",
       "      <th>variantName</th>\n",
       "      <th>price</th>\n",
       "      <th>Registration Year</th>\n",
       "      <th>Fuel Type</th>\n",
       "      <th>Kms Driven</th>\n",
       "      <th>Engine Displacement</th>\n",
       "      <th>Transmission</th>\n",
       "      <th>Mileage</th>\n",
       "    </tr>\n",
       "  </thead>\n",
       "  <tbody>\n",
       "    <tr>\n",
       "      <th>0</th>\n",
       "      <td>Bangalore</td>\n",
       "      <td>Manual</td>\n",
       "      <td>3</td>\n",
       "      <td>Maruti</td>\n",
       "      <td>Maruti Celerio</td>\n",
       "      <td>2015</td>\n",
       "      <td>VXI</td>\n",
       "      <td>₹ 4 Lakh</td>\n",
       "      <td>2015</td>\n",
       "      <td>Petrol</td>\n",
       "      <td>1,20,000 Kms</td>\n",
       "      <td>998 cc</td>\n",
       "      <td>Manual</td>\n",
       "      <td>23.1 kmpl</td>\n",
       "    </tr>\n",
       "    <tr>\n",
       "      <th>1</th>\n",
       "      <td>Bangalore</td>\n",
       "      <td>Manual</td>\n",
       "      <td>2</td>\n",
       "      <td>Ford</td>\n",
       "      <td>Ford Ecosport</td>\n",
       "      <td>2018</td>\n",
       "      <td>1.5 Petrol Titanium BSIV</td>\n",
       "      <td>₹ 8.11 Lakh</td>\n",
       "      <td>Feb 2018</td>\n",
       "      <td>Petrol</td>\n",
       "      <td>32,706 Kms</td>\n",
       "      <td>1497 cc</td>\n",
       "      <td>Manual</td>\n",
       "      <td>17 kmpl</td>\n",
       "    </tr>\n",
       "  </tbody>\n",
       "</table>\n",
       "</div>"
      ],
      "text/plain": [
       "        city transmission  ownerNo     oem           model  modelYear  \\\n",
       "0  Bangalore       Manual        3  Maruti  Maruti Celerio       2015   \n",
       "1  Bangalore       Manual        2    Ford   Ford Ecosport       2018   \n",
       "\n",
       "                variantName        price Registration Year Fuel Type  \\\n",
       "0                       VXI     ₹ 4 Lakh              2015    Petrol   \n",
       "1  1.5 Petrol Titanium BSIV  ₹ 8.11 Lakh          Feb 2018    Petrol   \n",
       "\n",
       "     Kms Driven Engine Displacement Transmission    Mileage  \n",
       "0  1,20,000 Kms              998 cc       Manual  23.1 kmpl  \n",
       "1    32,706 Kms             1497 cc       Manual    17 kmpl  "
      ]
     },
     "execution_count": 283,
     "metadata": {},
     "output_type": "execute_result"
    }
   ],
   "source": [
    "df.head(2)"
   ]
  },
  {
   "cell_type": "code",
   "execution_count": 284,
   "metadata": {},
   "outputs": [],
   "source": [
    "# Rename_columns\n",
    "df.rename(columns={\"ownerNo\": \"owner_no\",\n",
    "                   \"oem\": \"brand\",\n",
    "                   \"modelYear\": \"model_year\",\n",
    "                   \"variantName\": \"variant_name\",\n",
    "                   \"Registration Year\": \"registered_year\",\n",
    "                   \"Fuel Type\": \"fuel_type\",\n",
    "                   \"Kms Driven\": \"kms_driven\",\n",
    "                   \"Engine Displacement\": \"engine_cc\",\n",
    "                   \"Transmission\": \"transmission\",\n",
    "                   \"Year of Manufacture\": \"manufacture_year\",\n",
    "                   \"Mileage\": \"mileage_kmpl\"},inplace=True)\n",
    "\n",
    "# Strip_spaces_in_column_names\n",
    "df.columns = df.columns.str.strip()"
   ]
  },
  {
   "cell_type": "code",
   "execution_count": 285,
   "metadata": {},
   "outputs": [],
   "source": [
    "# Strip all white/trailing spaces & if string convert it to lowercase for consistency\n",
    "df = df.apply(lambda col: col.str.strip().str.lower() if col.dtype == 'object' else col,axis=0)"
   ]
  },
  {
   "cell_type": "code",
   "execution_count": 286,
   "metadata": {},
   "outputs": [
    {
     "data": {
      "text/html": [
       "<div>\n",
       "<style scoped>\n",
       "    .dataframe tbody tr th:only-of-type {\n",
       "        vertical-align: middle;\n",
       "    }\n",
       "\n",
       "    .dataframe tbody tr th {\n",
       "        vertical-align: top;\n",
       "    }\n",
       "\n",
       "    .dataframe thead th {\n",
       "        text-align: right;\n",
       "    }\n",
       "</style>\n",
       "<table border=\"1\" class=\"dataframe\">\n",
       "  <thead>\n",
       "    <tr style=\"text-align: right;\">\n",
       "      <th></th>\n",
       "      <th>city</th>\n",
       "      <th>transmission</th>\n",
       "      <th>owner_no</th>\n",
       "      <th>brand</th>\n",
       "      <th>model</th>\n",
       "      <th>model_year</th>\n",
       "      <th>variant_name</th>\n",
       "      <th>price</th>\n",
       "      <th>registered_year</th>\n",
       "      <th>fuel_type</th>\n",
       "      <th>kms_driven</th>\n",
       "      <th>engine_cc</th>\n",
       "      <th>transmission</th>\n",
       "      <th>mileage_kmpl</th>\n",
       "    </tr>\n",
       "  </thead>\n",
       "  <tbody>\n",
       "    <tr>\n",
       "      <th>0</th>\n",
       "      <td>bangalore</td>\n",
       "      <td>manual</td>\n",
       "      <td>3</td>\n",
       "      <td>maruti</td>\n",
       "      <td>maruti celerio</td>\n",
       "      <td>2015</td>\n",
       "      <td>vxi</td>\n",
       "      <td>₹ 4 lakh</td>\n",
       "      <td>2015</td>\n",
       "      <td>petrol</td>\n",
       "      <td>1,20,000 kms</td>\n",
       "      <td>998 cc</td>\n",
       "      <td>manual</td>\n",
       "      <td>23.1 kmpl</td>\n",
       "    </tr>\n",
       "    <tr>\n",
       "      <th>1</th>\n",
       "      <td>bangalore</td>\n",
       "      <td>manual</td>\n",
       "      <td>2</td>\n",
       "      <td>ford</td>\n",
       "      <td>ford ecosport</td>\n",
       "      <td>2018</td>\n",
       "      <td>1.5 petrol titanium bsiv</td>\n",
       "      <td>₹ 8.11 lakh</td>\n",
       "      <td>feb 2018</td>\n",
       "      <td>petrol</td>\n",
       "      <td>32,706 kms</td>\n",
       "      <td>1497 cc</td>\n",
       "      <td>manual</td>\n",
       "      <td>17 kmpl</td>\n",
       "    </tr>\n",
       "  </tbody>\n",
       "</table>\n",
       "</div>"
      ],
      "text/plain": [
       "        city transmission  owner_no   brand           model  model_year  \\\n",
       "0  bangalore       manual         3  maruti  maruti celerio        2015   \n",
       "1  bangalore       manual         2    ford   ford ecosport        2018   \n",
       "\n",
       "               variant_name        price registered_year fuel_type  \\\n",
       "0                       vxi     ₹ 4 lakh            2015    petrol   \n",
       "1  1.5 petrol titanium bsiv  ₹ 8.11 lakh        feb 2018    petrol   \n",
       "\n",
       "     kms_driven engine_cc transmission mileage_kmpl  \n",
       "0  1,20,000 kms    998 cc       manual    23.1 kmpl  \n",
       "1    32,706 kms   1497 cc       manual      17 kmpl  "
      ]
     },
     "execution_count": 286,
     "metadata": {},
     "output_type": "execute_result"
    }
   ],
   "source": [
    "df.head(2)"
   ]
  },
  {
   "cell_type": "code",
   "execution_count": 287,
   "metadata": {},
   "outputs": [],
   "source": [
    "# remove 'kms' and make it numerical standard\n",
    "df[\"kms_driven\"] = df[\"kms_driven\"].replace({\"kms\": \"\",\",\": \"\"},regex=True).str.strip()\n",
    "\n",
    "# engine displacement column remove unwanted strings\n",
    "df[\"engine_cc\"] = df[\"engine_cc\"].str.replace(\"cc\",\"\").str.strip()\n",
    "\n",
    "# remove \"kmph\" in mileage_kmph column\n",
    "df[\"mileage_kmpl\"] = df[\"mileage_kmpl\"].str.replace(\"kmpl\",\"\").str.strip()\n",
    "\n",
    "# remove unwanted strings and keep only year\n",
    "df[\"registered_year\"] = df[\"registered_year\"].str.extract(r'\\b(\\d{4})\\b').astype(float) #float will handle Nan value"
   ]
  },
  {
   "cell_type": "code",
   "execution_count": 288,
   "metadata": {},
   "outputs": [],
   "source": [
    "#drop duplicate records\n",
    "df.drop_duplicates(inplace=True)"
   ]
  },
  {
   "cell_type": "code",
   "execution_count": 289,
   "metadata": {},
   "outputs": [
    {
     "name": "stdout",
     "output_type": "stream",
     "text": [
      "<class 'pandas.core.frame.DataFrame'>\n",
      "Index: 8253 entries, 0 to 8368\n",
      "Data columns (total 14 columns):\n",
      " #   Column           Non-Null Count  Dtype  \n",
      "---  ------           --------------  -----  \n",
      " 0   city             8253 non-null   object \n",
      " 1   transmission     8253 non-null   object \n",
      " 2   owner_no         8253 non-null   int64  \n",
      " 3   brand            8253 non-null   object \n",
      " 4   model            8253 non-null   object \n",
      " 5   model_year       8253 non-null   int64  \n",
      " 6   variant_name     8253 non-null   object \n",
      " 7   price            8253 non-null   object \n",
      " 8   registered_year  8201 non-null   float64\n",
      " 9   fuel_type        8253 non-null   object \n",
      " 10  kms_driven       8251 non-null   object \n",
      " 11  engine_cc        8249 non-null   object \n",
      " 12  transmission     8253 non-null   object \n",
      " 13  mileage_kmpl     7970 non-null   object \n",
      "dtypes: float64(1), int64(2), object(11)\n",
      "memory usage: 967.1+ KB\n"
     ]
    }
   ],
   "source": [
    "df.info()"
   ]
  },
  {
   "cell_type": "code",
   "execution_count": 290,
   "metadata": {},
   "outputs": [],
   "source": [
    "# drop rows where registered_year is null (else it will skew data)\n",
    "df = df.dropna(subset=['registered_year'])"
   ]
  },
  {
   "cell_type": "code",
   "execution_count": 291,
   "metadata": {},
   "outputs": [
    {
     "data": {
      "text/html": [
       "<div>\n",
       "<style scoped>\n",
       "    .dataframe tbody tr th:only-of-type {\n",
       "        vertical-align: middle;\n",
       "    }\n",
       "\n",
       "    .dataframe tbody tr th {\n",
       "        vertical-align: top;\n",
       "    }\n",
       "\n",
       "    .dataframe thead th {\n",
       "        text-align: right;\n",
       "    }\n",
       "</style>\n",
       "<table border=\"1\" class=\"dataframe\">\n",
       "  <thead>\n",
       "    <tr style=\"text-align: right;\">\n",
       "      <th></th>\n",
       "      <th>city</th>\n",
       "      <th>transmission</th>\n",
       "      <th>owner_no</th>\n",
       "      <th>brand</th>\n",
       "      <th>model</th>\n",
       "      <th>model_year</th>\n",
       "      <th>variant_name</th>\n",
       "      <th>price</th>\n",
       "      <th>registered_year</th>\n",
       "      <th>fuel_type</th>\n",
       "      <th>kms_driven</th>\n",
       "      <th>engine_cc</th>\n",
       "      <th>transmission</th>\n",
       "      <th>mileage_kmpl</th>\n",
       "    </tr>\n",
       "  </thead>\n",
       "  <tbody>\n",
       "    <tr>\n",
       "      <th>574</th>\n",
       "      <td>bangalore</td>\n",
       "      <td>automatic</td>\n",
       "      <td>1</td>\n",
       "      <td>mahindra</td>\n",
       "      <td>mahindra e2o plus</td>\n",
       "      <td>2017</td>\n",
       "      <td>p6</td>\n",
       "      <td>₹ 5.50 lakh</td>\n",
       "      <td>2017.0</td>\n",
       "      <td>electric</td>\n",
       "      <td>20000</td>\n",
       "      <td>NaN</td>\n",
       "      <td>automatic</td>\n",
       "      <td>110</td>\n",
       "    </tr>\n",
       "    <tr>\n",
       "      <th>5510</th>\n",
       "      <td>hyderabad</td>\n",
       "      <td>manual</td>\n",
       "      <td>1</td>\n",
       "      <td>mercedes-benz</td>\n",
       "      <td>mercedes-benz c-class</td>\n",
       "      <td>2002</td>\n",
       "      <td>180 elegance</td>\n",
       "      <td>₹ 2.25 lakh</td>\n",
       "      <td>2002.0</td>\n",
       "      <td>petrol</td>\n",
       "      <td>135000</td>\n",
       "      <td>NaN</td>\n",
       "      <td>manual</td>\n",
       "      <td>NaN</td>\n",
       "    </tr>\n",
       "    <tr>\n",
       "      <th>5683</th>\n",
       "      <td>hyderabad</td>\n",
       "      <td>manual</td>\n",
       "      <td>3</td>\n",
       "      <td>tata</td>\n",
       "      <td>tata indigo</td>\n",
       "      <td>2007</td>\n",
       "      <td>lx</td>\n",
       "      <td>₹ 20,161</td>\n",
       "      <td>2007.0</td>\n",
       "      <td>diesel</td>\n",
       "      <td>NaN</td>\n",
       "      <td>1405</td>\n",
       "      <td>manual</td>\n",
       "      <td>17</td>\n",
       "    </tr>\n",
       "    <tr>\n",
       "      <th>6430</th>\n",
       "      <td>jaipur</td>\n",
       "      <td>manual</td>\n",
       "      <td>1</td>\n",
       "      <td>maruti</td>\n",
       "      <td>maruti wagon r</td>\n",
       "      <td>2015</td>\n",
       "      <td>vxi bs iv</td>\n",
       "      <td>₹ 3.50 lakh</td>\n",
       "      <td>2015.0</td>\n",
       "      <td>petrol</td>\n",
       "      <td>NaN</td>\n",
       "      <td>998</td>\n",
       "      <td>manual</td>\n",
       "      <td>20.51</td>\n",
       "    </tr>\n",
       "  </tbody>\n",
       "</table>\n",
       "</div>"
      ],
      "text/plain": [
       "           city transmission  owner_no          brand                  model  \\\n",
       "574   bangalore    automatic         1       mahindra      mahindra e2o plus   \n",
       "5510  hyderabad       manual         1  mercedes-benz  mercedes-benz c-class   \n",
       "5683  hyderabad       manual         3           tata            tata indigo   \n",
       "6430     jaipur       manual         1         maruti         maruti wagon r   \n",
       "\n",
       "      model_year  variant_name        price  registered_year fuel_type  \\\n",
       "574         2017            p6  ₹ 5.50 lakh           2017.0  electric   \n",
       "5510        2002  180 elegance  ₹ 2.25 lakh           2002.0    petrol   \n",
       "5683        2007            lx     ₹ 20,161           2007.0    diesel   \n",
       "6430        2015     vxi bs iv  ₹ 3.50 lakh           2015.0    petrol   \n",
       "\n",
       "     kms_driven engine_cc transmission mileage_kmpl  \n",
       "574       20000       NaN    automatic          110  \n",
       "5510     135000       NaN       manual          NaN  \n",
       "5683        NaN      1405       manual           17  \n",
       "6430        NaN       998       manual        20.51  "
      ]
     },
     "execution_count": 291,
     "metadata": {},
     "output_type": "execute_result"
    }
   ],
   "source": [
    "df[(df[\"kms_driven\"].isnull()) | (df[\"engine_cc\"].isnull())] # these values needs to be filled"
   ]
  },
  {
   "cell_type": "code",
   "execution_count": 292,
   "metadata": {},
   "outputs": [],
   "source": [
    "# convert to numeric datatypes\n",
    "df[\"engine_cc\"] = pd.to_numeric(df[\"engine_cc\"],errors=\"coerce\")\n",
    "df[\"kms_driven\"] = pd.to_numeric(df[\"kms_driven\"],errors=\"coerce\")\n",
    "df['mileage_kmpl'] = pd.to_numeric(df['mileage_kmpl'], errors='coerce')\n",
    "\n",
    "# fill engine_cc using grouping and mean\n",
    "df[\"engine_cc\"] = df.groupby(['brand','model','model_year','fuel_type'])['engine_cc'].transform(lambda x: x.fillna(x.mean()))\n",
    "\n",
    "# fill kms_driven using grouping and mean\n",
    "df[\"kms_driven\"] = df.groupby(['brand','model','model_year','fuel_type'])['kms_driven'].transform(lambda x: x.fillna(x.mean()))\n",
    "\n",
    "# fill mileage_kmpl using grouping and mean\n",
    "df['mileage_kmpl'] = df.groupby(['brand','engine_cc','fuel_type'])['mileage_kmpl'].transform(lambda x: x.fillna(x.mean()))"
   ]
  },
  {
   "cell_type": "code",
   "execution_count": 293,
   "metadata": {},
   "outputs": [],
   "source": [
    "#drop null value rows for specific columns\n",
    "df.dropna(subset=['engine_cc','kms_driven'],inplace=True)"
   ]
  },
  {
   "cell_type": "code",
   "execution_count": 294,
   "metadata": {},
   "outputs": [
    {
     "name": "stdout",
     "output_type": "stream",
     "text": [
      "<class 'pandas.core.frame.DataFrame'>\n",
      "Index: 8199 entries, 0 to 8368\n",
      "Data columns (total 14 columns):\n",
      " #   Column           Non-Null Count  Dtype  \n",
      "---  ------           --------------  -----  \n",
      " 0   city             8199 non-null   object \n",
      " 1   transmission     8199 non-null   object \n",
      " 2   owner_no         8199 non-null   int64  \n",
      " 3   brand            8199 non-null   object \n",
      " 4   model            8199 non-null   object \n",
      " 5   model_year       8199 non-null   int64  \n",
      " 6   variant_name     8199 non-null   object \n",
      " 7   price            8199 non-null   object \n",
      " 8   registered_year  8199 non-null   float64\n",
      " 9   fuel_type        8199 non-null   object \n",
      " 10  kms_driven       8199 non-null   float64\n",
      " 11  engine_cc        8199 non-null   float64\n",
      " 12  transmission     8199 non-null   object \n",
      " 13  mileage_kmpl     8132 non-null   float64\n",
      "dtypes: float64(4), int64(2), object(8)\n",
      "memory usage: 960.8+ KB\n"
     ]
    }
   ],
   "source": [
    "df.info()"
   ]
  },
  {
   "cell_type": "code",
   "execution_count": 295,
   "metadata": {},
   "outputs": [],
   "source": [
    "#drop unfilled column using mean and grouping\n",
    "df.dropna(subset=['mileage_kmpl'],inplace=True)"
   ]
  },
  {
   "cell_type": "code",
   "execution_count": 296,
   "metadata": {},
   "outputs": [
    {
     "name": "stdout",
     "output_type": "stream",
     "text": [
      "<class 'pandas.core.frame.DataFrame'>\n",
      "Index: 8132 entries, 0 to 8368\n",
      "Data columns (total 14 columns):\n",
      " #   Column           Non-Null Count  Dtype  \n",
      "---  ------           --------------  -----  \n",
      " 0   city             8132 non-null   object \n",
      " 1   transmission     8132 non-null   object \n",
      " 2   owner_no         8132 non-null   int64  \n",
      " 3   brand            8132 non-null   object \n",
      " 4   model            8132 non-null   object \n",
      " 5   model_year       8132 non-null   int64  \n",
      " 6   variant_name     8132 non-null   object \n",
      " 7   price            8132 non-null   object \n",
      " 8   registered_year  8132 non-null   float64\n",
      " 9   fuel_type        8132 non-null   object \n",
      " 10  kms_driven       8132 non-null   float64\n",
      " 11  engine_cc        8132 non-null   float64\n",
      " 12  transmission     8132 non-null   object \n",
      " 13  mileage_kmpl     8132 non-null   float64\n",
      "dtypes: float64(4), int64(2), object(8)\n",
      "memory usage: 953.0+ KB\n"
     ]
    }
   ],
   "source": [
    "df.info()"
   ]
  }
 ],
 "metadata": {
  "kernelspec": {
   "display_name": "Python 3",
   "language": "python",
   "name": "python3"
  },
  "language_info": {
   "codemirror_mode": {
    "name": "ipython",
    "version": 3
   },
   "file_extension": ".py",
   "mimetype": "text/x-python",
   "name": "python",
   "nbconvert_exporter": "python",
   "pygments_lexer": "ipython3",
   "version": "3.12.4"
  }
 },
 "nbformat": 4,
 "nbformat_minor": 2
}
