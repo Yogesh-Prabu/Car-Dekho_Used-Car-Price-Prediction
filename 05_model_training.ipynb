{
 "cells": [
  {
   "cell_type": "code",
   "execution_count": 84,
   "metadata": {},
   "outputs": [],
   "source": [
    "from sklearn.model_selection import train_test_split\n",
    "from sklearn.ensemble import RandomForestRegressor, GradientBoostingRegressor\n",
    "from sklearn.tree import DecisionTreeRegressor\n",
    "from sklearn.linear_model import LinearRegression\n",
    "from sklearn.metrics import mean_squared_error, mean_absolute_error, r2_score\n",
    "import pandas as pd\n",
    "import joblib\n",
    "from sklearn.model_selection import cross_val_score\n",
    "import matplotlib.pyplot as plt\n",
    "import seaborn as sns\n",
    "pd.set_option('display.max_columns', None)"
   ]
  },
  {
   "cell_type": "code",
   "execution_count": 85,
   "metadata": {},
   "outputs": [],
   "source": [
    "df_raw = pd.read_csv(r'SBS_Processed_Datasets/04_2_Non_scaled_dataframe.csv')\n",
    "df_scaled = pd.read_csv(r'SBS_Processed_Datasets/04_1_scaled_dataframe.csv')"
   ]
  },
  {
   "cell_type": "code",
   "execution_count": 86,
   "metadata": {},
   "outputs": [
    {
     "data": {
      "text/html": [
       "<div>\n",
       "<style scoped>\n",
       "    .dataframe tbody tr th:only-of-type {\n",
       "        vertical-align: middle;\n",
       "    }\n",
       "\n",
       "    .dataframe tbody tr th {\n",
       "        vertical-align: top;\n",
       "    }\n",
       "\n",
       "    .dataframe thead th {\n",
       "        text-align: right;\n",
       "    }\n",
       "</style>\n",
       "<table border=\"1\" class=\"dataframe\">\n",
       "  <thead>\n",
       "    <tr style=\"text-align: right;\">\n",
       "      <th></th>\n",
       "      <th>owner_no</th>\n",
       "      <th>model_year</th>\n",
       "      <th>price</th>\n",
       "      <th>registered_year</th>\n",
       "      <th>kms_driven</th>\n",
       "      <th>mileage_kmpl</th>\n",
       "      <th>engine_cc</th>\n",
       "      <th>car_age</th>\n",
       "      <th>model_age</th>\n",
       "      <th>registration_lag</th>\n",
       "      <th>normalized_model_age</th>\n",
       "      <th>price_per_km</th>\n",
       "      <th>mileage_normalized</th>\n",
       "      <th>high_mileage</th>\n",
       "      <th>multiple_owners</th>\n",
       "      <th>brand_popularity</th>\n",
       "      <th>kms_per_year</th>\n",
       "      <th>city_bangalore</th>\n",
       "      <th>city_chennai</th>\n",
       "      <th>city_delhi</th>\n",
       "      <th>city_hyderabad</th>\n",
       "      <th>city_jaipur</th>\n",
       "      <th>city_kolkata</th>\n",
       "      <th>transmission_automatic</th>\n",
       "      <th>transmission_manual</th>\n",
       "      <th>fuel_type_cng</th>\n",
       "      <th>fuel_type_diesel</th>\n",
       "      <th>fuel_type_lpg</th>\n",
       "      <th>fuel_type_petrol</th>\n",
       "      <th>brand_encoded</th>\n",
       "      <th>variant_name_encoded</th>\n",
       "      <th>model_encoded</th>\n",
       "    </tr>\n",
       "  </thead>\n",
       "  <tbody>\n",
       "    <tr>\n",
       "      <th>0</th>\n",
       "      <td>3</td>\n",
       "      <td>2015</td>\n",
       "      <td>400000.0</td>\n",
       "      <td>2015</td>\n",
       "      <td>120000.0</td>\n",
       "      <td>23.1</td>\n",
       "      <td>998</td>\n",
       "      <td>9</td>\n",
       "      <td>9</td>\n",
       "      <td>0</td>\n",
       "      <td>0.900000</td>\n",
       "      <td>3.333333</td>\n",
       "      <td>0.648876</td>\n",
       "      <td>0</td>\n",
       "      <td>1</td>\n",
       "      <td>503886.023982</td>\n",
       "      <td>12000.000000</td>\n",
       "      <td>True</td>\n",
       "      <td>False</td>\n",
       "      <td>False</td>\n",
       "      <td>False</td>\n",
       "      <td>False</td>\n",
       "      <td>False</td>\n",
       "      <td>False</td>\n",
       "      <td>True</td>\n",
       "      <td>False</td>\n",
       "      <td>False</td>\n",
       "      <td>False</td>\n",
       "      <td>True</td>\n",
       "      <td>18</td>\n",
       "      <td>424566.346883</td>\n",
       "      <td>440245.033113</td>\n",
       "    </tr>\n",
       "    <tr>\n",
       "      <th>1</th>\n",
       "      <td>2</td>\n",
       "      <td>2018</td>\n",
       "      <td>811000.0</td>\n",
       "      <td>2018</td>\n",
       "      <td>32706.0</td>\n",
       "      <td>17.0</td>\n",
       "      <td>1497</td>\n",
       "      <td>6</td>\n",
       "      <td>6</td>\n",
       "      <td>0</td>\n",
       "      <td>0.857143</td>\n",
       "      <td>24.796673</td>\n",
       "      <td>0.477528</td>\n",
       "      <td>0</td>\n",
       "      <td>1</td>\n",
       "      <td>538652.329749</td>\n",
       "      <td>4672.285714</td>\n",
       "      <td>True</td>\n",
       "      <td>False</td>\n",
       "      <td>False</td>\n",
       "      <td>False</td>\n",
       "      <td>False</td>\n",
       "      <td>False</td>\n",
       "      <td>False</td>\n",
       "      <td>True</td>\n",
       "      <td>False</td>\n",
       "      <td>False</td>\n",
       "      <td>False</td>\n",
       "      <td>True</td>\n",
       "      <td>6</td>\n",
       "      <td>787214.285714</td>\n",
       "      <td>683109.090909</td>\n",
       "    </tr>\n",
       "  </tbody>\n",
       "</table>\n",
       "</div>"
      ],
      "text/plain": [
       "   owner_no  model_year     price  registered_year  kms_driven  mileage_kmpl  \\\n",
       "0         3        2015  400000.0             2015    120000.0          23.1   \n",
       "1         2        2018  811000.0             2018     32706.0          17.0   \n",
       "\n",
       "   engine_cc  car_age  model_age  registration_lag  normalized_model_age  \\\n",
       "0        998        9          9                 0              0.900000   \n",
       "1       1497        6          6                 0              0.857143   \n",
       "\n",
       "   price_per_km  mileage_normalized  high_mileage  multiple_owners  \\\n",
       "0      3.333333            0.648876             0                1   \n",
       "1     24.796673            0.477528             0                1   \n",
       "\n",
       "   brand_popularity  kms_per_year  city_bangalore  city_chennai  city_delhi  \\\n",
       "0     503886.023982  12000.000000            True         False       False   \n",
       "1     538652.329749   4672.285714            True         False       False   \n",
       "\n",
       "   city_hyderabad  city_jaipur  city_kolkata  transmission_automatic  \\\n",
       "0           False        False         False                   False   \n",
       "1           False        False         False                   False   \n",
       "\n",
       "   transmission_manual  fuel_type_cng  fuel_type_diesel  fuel_type_lpg  \\\n",
       "0                 True          False             False          False   \n",
       "1                 True          False             False          False   \n",
       "\n",
       "   fuel_type_petrol  brand_encoded  variant_name_encoded  model_encoded  \n",
       "0              True             18         424566.346883  440245.033113  \n",
       "1              True              6         787214.285714  683109.090909  "
      ]
     },
     "execution_count": 86,
     "metadata": {},
     "output_type": "execute_result"
    }
   ],
   "source": [
    "df_raw.head(2)\n"
   ]
  },
  {
   "cell_type": "code",
   "execution_count": 87,
   "metadata": {},
   "outputs": [
    {
     "data": {
      "text/html": [
       "<div>\n",
       "<style scoped>\n",
       "    .dataframe tbody tr th:only-of-type {\n",
       "        vertical-align: middle;\n",
       "    }\n",
       "\n",
       "    .dataframe tbody tr th {\n",
       "        vertical-align: top;\n",
       "    }\n",
       "\n",
       "    .dataframe thead th {\n",
       "        text-align: right;\n",
       "    }\n",
       "</style>\n",
       "<table border=\"1\" class=\"dataframe\">\n",
       "  <thead>\n",
       "    <tr style=\"text-align: right;\">\n",
       "      <th></th>\n",
       "      <th>owner_no</th>\n",
       "      <th>model_year</th>\n",
       "      <th>price</th>\n",
       "      <th>registered_year</th>\n",
       "      <th>kms_driven</th>\n",
       "      <th>mileage_kmpl</th>\n",
       "      <th>engine_cc</th>\n",
       "      <th>car_age</th>\n",
       "      <th>model_age</th>\n",
       "      <th>registration_lag</th>\n",
       "      <th>normalized_model_age</th>\n",
       "      <th>price_per_km</th>\n",
       "      <th>mileage_normalized</th>\n",
       "      <th>high_mileage</th>\n",
       "      <th>multiple_owners</th>\n",
       "      <th>brand_popularity</th>\n",
       "      <th>kms_per_year</th>\n",
       "      <th>city_bangalore</th>\n",
       "      <th>city_chennai</th>\n",
       "      <th>city_delhi</th>\n",
       "      <th>city_hyderabad</th>\n",
       "      <th>city_jaipur</th>\n",
       "      <th>city_kolkata</th>\n",
       "      <th>transmission_automatic</th>\n",
       "      <th>transmission_manual</th>\n",
       "      <th>fuel_type_cng</th>\n",
       "      <th>fuel_type_diesel</th>\n",
       "      <th>fuel_type_lpg</th>\n",
       "      <th>fuel_type_petrol</th>\n",
       "      <th>brand_encoded</th>\n",
       "      <th>variant_name_encoded</th>\n",
       "      <th>model_encoded</th>\n",
       "    </tr>\n",
       "  </thead>\n",
       "  <tbody>\n",
       "    <tr>\n",
       "      <th>0</th>\n",
       "      <td>2.498899</td>\n",
       "      <td>2015</td>\n",
       "      <td>400000.0</td>\n",
       "      <td>2015</td>\n",
       "      <td>1.342725</td>\n",
       "      <td>1.005949</td>\n",
       "      <td>-0.899893</td>\n",
       "      <td>0.328319</td>\n",
       "      <td>0.312143</td>\n",
       "      <td>-0.206056</td>\n",
       "      <td>0.585429</td>\n",
       "      <td>-0.125756</td>\n",
       "      <td>1.005949</td>\n",
       "      <td>0</td>\n",
       "      <td>1</td>\n",
       "      <td>-0.586069</td>\n",
       "      <td>0.808395</td>\n",
       "      <td>True</td>\n",
       "      <td>False</td>\n",
       "      <td>False</td>\n",
       "      <td>False</td>\n",
       "      <td>False</td>\n",
       "      <td>False</td>\n",
       "      <td>False</td>\n",
       "      <td>True</td>\n",
       "      <td>False</td>\n",
       "      <td>False</td>\n",
       "      <td>False</td>\n",
       "      <td>True</td>\n",
       "      <td>18</td>\n",
       "      <td>424566.346883</td>\n",
       "      <td>440245.033113</td>\n",
       "    </tr>\n",
       "    <tr>\n",
       "      <th>1</th>\n",
       "      <td>0.955492</td>\n",
       "      <td>2018</td>\n",
       "      <td>811000.0</td>\n",
       "      <td>2018</td>\n",
       "      <td>-0.624108</td>\n",
       "      <td>-0.745016</td>\n",
       "      <td>0.407365</td>\n",
       "      <td>-0.441225</td>\n",
       "      <td>-0.459648</td>\n",
       "      <td>-0.206056</td>\n",
       "      <td>0.084689</td>\n",
       "      <td>0.003758</td>\n",
       "      <td>-0.745016</td>\n",
       "      <td>0</td>\n",
       "      <td>1</td>\n",
       "      <td>-0.419329</td>\n",
       "      <td>-0.432876</td>\n",
       "      <td>True</td>\n",
       "      <td>False</td>\n",
       "      <td>False</td>\n",
       "      <td>False</td>\n",
       "      <td>False</td>\n",
       "      <td>False</td>\n",
       "      <td>False</td>\n",
       "      <td>True</td>\n",
       "      <td>False</td>\n",
       "      <td>False</td>\n",
       "      <td>False</td>\n",
       "      <td>True</td>\n",
       "      <td>6</td>\n",
       "      <td>787214.285714</td>\n",
       "      <td>683109.090909</td>\n",
       "    </tr>\n",
       "  </tbody>\n",
       "</table>\n",
       "</div>"
      ],
      "text/plain": [
       "   owner_no  model_year     price  registered_year  kms_driven  mileage_kmpl  \\\n",
       "0  2.498899        2015  400000.0             2015    1.342725      1.005949   \n",
       "1  0.955492        2018  811000.0             2018   -0.624108     -0.745016   \n",
       "\n",
       "   engine_cc   car_age  model_age  registration_lag  normalized_model_age  \\\n",
       "0  -0.899893  0.328319   0.312143         -0.206056              0.585429   \n",
       "1   0.407365 -0.441225  -0.459648         -0.206056              0.084689   \n",
       "\n",
       "   price_per_km  mileage_normalized  high_mileage  multiple_owners  \\\n",
       "0     -0.125756            1.005949             0                1   \n",
       "1      0.003758           -0.745016             0                1   \n",
       "\n",
       "   brand_popularity  kms_per_year  city_bangalore  city_chennai  city_delhi  \\\n",
       "0         -0.586069      0.808395            True         False       False   \n",
       "1         -0.419329     -0.432876            True         False       False   \n",
       "\n",
       "   city_hyderabad  city_jaipur  city_kolkata  transmission_automatic  \\\n",
       "0           False        False         False                   False   \n",
       "1           False        False         False                   False   \n",
       "\n",
       "   transmission_manual  fuel_type_cng  fuel_type_diesel  fuel_type_lpg  \\\n",
       "0                 True          False             False          False   \n",
       "1                 True          False             False          False   \n",
       "\n",
       "   fuel_type_petrol  brand_encoded  variant_name_encoded  model_encoded  \n",
       "0              True             18         424566.346883  440245.033113  \n",
       "1              True              6         787214.285714  683109.090909  "
      ]
     },
     "execution_count": 87,
     "metadata": {},
     "output_type": "execute_result"
    }
   ],
   "source": [
    "df_scaled.head(2)"
   ]
  },
  {
   "cell_type": "code",
   "execution_count": 88,
   "metadata": {},
   "outputs": [],
   "source": [
    "# from sklearn.model_selection import train_test_split\n",
    "\n",
    "# Target column\n",
    "y = df_raw['price']\n",
    "\n",
    "# Scaled dataset\n",
    "X_scaled = df_scaled.drop('price', axis=1)\n",
    "X_scaled_train, X_scaled_test, y_train, y_test = train_test_split(X_scaled, y, test_size=0.2, random_state=42)\n",
    "\n",
    "# Unscaled (raw) dataset\n",
    "X_raw = df_raw.drop('price', axis=1)\n",
    "X_raw_train, X_raw_test, y_train, y_test = train_test_split(X_raw, y, test_size=0.2, random_state=42)"
   ]
  },
  {
   "cell_type": "markdown",
   "metadata": {},
   "source": [
    "### ModelTraining"
   ]
  },
  {
   "cell_type": "markdown",
   "metadata": {},
   "source": [
    "#### Linear Regression (Scaled Data)"
   ]
  },
  {
   "cell_type": "code",
   "execution_count": 89,
   "metadata": {},
   "outputs": [
    {
     "name": "stdout",
     "output_type": "stream",
     "text": [
      "Linear Regression Performance:\n",
      "MAE: 73372.96067597097\n",
      "MSE: 11774726175.5922\n",
      "R²: 0.9103185593090396\n"
     ]
    }
   ],
   "source": [
    "# from sklearn.linear_model import LinearRegression\n",
    "# from sklearn.metrics import mean_absolute_error, mean_squared_error, r2_score\n",
    "\n",
    "# Train Linear Regression on scaled data\n",
    "lr = LinearRegression()\n",
    "lr.fit(X_scaled_train, y_train)\n",
    "\n",
    "# Predictions\n",
    "y_pred = lr.predict(X_scaled_test)\n",
    "\n",
    "# Evaluation\n",
    "print(\"Linear Regression Performance:\")\n",
    "print(\"MAE:\", mean_absolute_error(y_test, y_pred))\n",
    "print(\"MSE:\", mean_squared_error(y_test, y_pred))\n",
    "print(\"R²:\", r2_score(y_test, y_pred))\n"
   ]
  },
  {
   "cell_type": "markdown",
   "metadata": {},
   "source": [
    "#### Decision Tree (Raw Data)"
   ]
  },
  {
   "cell_type": "code",
   "execution_count": 90,
   "metadata": {},
   "outputs": [
    {
     "name": "stdout",
     "output_type": "stream",
     "text": [
      "Decision Tree Performance:\n",
      "MAE: 53867.87448840382\n",
      "MSE: 7613862725.654843\n",
      "R²: 0.9420095067794146\n"
     ]
    }
   ],
   "source": [
    "# from sklearn.tree import DecisionTreeRegressor\n",
    "\n",
    "# Train Decision Tree\n",
    "dt = DecisionTreeRegressor(random_state=42)\n",
    "dt.fit(X_raw_train, y_train)\n",
    "\n",
    "# Predictions and Evaluation\n",
    "y_pred_dt = dt.predict(X_raw_test)\n",
    "print(\"Decision Tree Performance:\")\n",
    "print(\"MAE:\", mean_absolute_error(y_test, y_pred_dt))\n",
    "print(\"MSE:\", mean_squared_error(y_test, y_pred_dt))\n",
    "print(\"R²:\", r2_score(y_test, y_pred_dt))"
   ]
  },
  {
   "cell_type": "markdown",
   "metadata": {},
   "source": [
    "#### Random Forest (Raw Data)"
   ]
  },
  {
   "cell_type": "code",
   "execution_count": 91,
   "metadata": {},
   "outputs": [
    {
     "name": "stdout",
     "output_type": "stream",
     "text": [
      "Random Forest Performance:\n",
      "MAE: 36858.565716234654\n",
      "MSE: 3729170171.7008934\n",
      "R²: 0.9715970164747315\n"
     ]
    }
   ],
   "source": [
    "# from sklearn.ensemble import RandomForestRegressor\n",
    "\n",
    "# Train Random Forest\n",
    "rf = RandomForestRegressor(random_state=42, n_estimators=100)\n",
    "rf.fit(X_raw_train, y_train)\n",
    "\n",
    "# Predictions and Evaluation\n",
    "y_pred_rf = rf.predict(X_raw_test)\n",
    "print(\"Random Forest Performance:\")\n",
    "print(\"MAE:\", mean_absolute_error(y_test, y_pred_rf))\n",
    "print(\"MSE:\", mean_squared_error(y_test, y_pred_rf))\n",
    "print(\"R²:\", r2_score(y_test, y_pred_rf))\n"
   ]
  },
  {
   "cell_type": "markdown",
   "metadata": {},
   "source": [
    "Gradient Boosting (Raw Data)"
   ]
  },
  {
   "cell_type": "code",
   "execution_count": 92,
   "metadata": {},
   "outputs": [
    {
     "name": "stdout",
     "output_type": "stream",
     "text": [
      "Gradient Boosting Performance:\n",
      "MAE: 51016.41019245231\n",
      "MSE: 5569832977.470617\n",
      "R²: 0.9575777272117784\n"
     ]
    }
   ],
   "source": [
    "# from sklearn.ensemble import GradientBoostingRegressor\n",
    "\n",
    "# Train Gradient Boosting\n",
    "gb = GradientBoostingRegressor(random_state=42, n_estimators=100, learning_rate=0.1)\n",
    "gb.fit(X_raw_train, y_train)\n",
    "\n",
    "# Predictions and Evaluation\n",
    "y_pred_gb = gb.predict(X_raw_test)\n",
    "print(\"Gradient Boosting Performance:\")\n",
    "print(\"MAE:\", mean_absolute_error(y_test, y_pred_gb))\n",
    "print(\"MSE:\", mean_squared_error(y_test, y_pred_gb))\n",
    "print(\"R²:\", r2_score(y_test, y_pred_gb))\n"
   ]
  },
  {
   "cell_type": "code",
   "execution_count": 93,
   "metadata": {},
   "outputs": [
    {
     "name": "stdout",
     "output_type": "stream",
     "text": [
      "               Model           MAE           MSE        R²\n",
      "0  Linear Regression  73372.960676  1.177473e+10  0.910319\n",
      "1      Decision Tree  53867.874488  7.613863e+09  0.942010\n",
      "2      Random Forest  36858.565716  3.729170e+09  0.971597\n",
      "3  Gradient Boosting  51016.410192  5.569833e+09  0.957578\n"
     ]
    }
   ],
   "source": [
    "# Collect model performance metrics\n",
    "results = {\n",
    "    \"Model\": [\"Linear Regression\", \"Decision Tree\", \"Random Forest\", \"Gradient Boosting\"],\n",
    "    \"MAE\": [\n",
    "        mean_absolute_error(y_test, y_pred),        # Linear Regression\n",
    "        mean_absolute_error(y_test, y_pred_dt),    # Decision Tree\n",
    "        mean_absolute_error(y_test, y_pred_rf),    # Random Forest\n",
    "        mean_absolute_error(y_test, y_pred_gb)     # Gradient Boosting\n",
    "    ],\n",
    "    \"MSE\": [\n",
    "        mean_squared_error(y_test, y_pred),        # Linear Regression\n",
    "        mean_squared_error(y_test, y_pred_dt),    # Decision Tree\n",
    "        mean_squared_error(y_test, y_pred_rf),    # Random Forest\n",
    "        mean_squared_error(y_test, y_pred_gb)     # Gradient Boosting\n",
    "    ],\n",
    "    \"R²\": [\n",
    "        r2_score(y_test, y_pred),                 # Linear Regression\n",
    "        r2_score(y_test, y_pred_dt),             # Decision Tree\n",
    "        r2_score(y_test, y_pred_rf),             # Random Forest\n",
    "        r2_score(y_test, y_pred_gb)              # Gradient Boosting\n",
    "    ]\n",
    "}\n",
    "\n",
    "# Create a results DataFrame\n",
    "results_df = pd.DataFrame(results)\n",
    "\n",
    "# Display results\n",
    "print(results_df)\n"
   ]
  },
  {
   "cell_type": "markdown",
   "metadata": {},
   "source": [
    "As per results RANDOM_FOREST Performs best"
   ]
  },
  {
   "cell_type": "code",
   "execution_count": 94,
   "metadata": {},
   "outputs": [
    {
     "data": {
      "image/png": "[encoded data removed]",
      "text/plain": [
       "<Figure size 1000x600 with 1 Axes>"
      ]
     },
     "metadata": {},
     "output_type": "display_data"
    }
   ],
   "source": [
    "# RANDOM FOREST VISUALIZATION\n",
    "import matplotlib.pyplot as plt\n",
    "\n",
    "feature_importances = rf.feature_importances_\n",
    "features = X_raw.columns\n",
    "\n",
    "plt.figure(figsize=(10, 6))\n",
    "plt.barh(features, feature_importances)\n",
    "plt.xlabel('Feature Importance')\n",
    "plt.title('Random Forest Feature Importance')\n",
    "plt.show()\n"
   ]
  },
  {
   "cell_type": "markdown",
   "metadata": {},
   "source": [
    "### HYPER TUNING"
   ]
  },
  {
   "cell_type": "code",
   "execution_count": 95,
   "metadata": {},
   "outputs": [
    {
     "name": "stdout",
     "output_type": "stream",
     "text": [
      "Best Parameters for Random Forest: {'n_estimators': 200, 'min_samples_split': 2, 'min_samples_leaf': 1, 'max_depth': None}\n",
      "Optimized Random Forest Performance:\n",
      "MAE: 36722.379580491135\n",
      "MSE: 3737598799.0580177\n",
      "R²: 0.9715328203793692\n"
     ]
    }
   ],
   "source": [
    "from sklearn.model_selection import RandomizedSearchCV\n",
    "\n",
    "# Parameter grid\n",
    "param_grid_rf = {\n",
    "    'n_estimators': [50, 100, 200],\n",
    "    'max_depth': [10, 20, 30, None],\n",
    "    'min_samples_split': [2, 5, 10],\n",
    "    'min_samples_leaf': [1, 2, 4]\n",
    "}\n",
    "\n",
    "# Randomized Search\n",
    "rf_random = RandomizedSearchCV(estimator=rf, param_distributions=param_grid_rf, \n",
    "                               n_iter=50, cv=3, random_state=42, n_jobs=-1)\n",
    "rf_random.fit(X_raw_train, y_train)\n",
    "\n",
    "# Best Parameters\n",
    "print(\"Best Parameters for Random Forest:\", rf_random.best_params_)\n",
    "\n",
    "# Best model evaluation\n",
    "best_rf = rf_random.best_estimator_\n",
    "y_pred_best_rf = best_rf.predict(X_raw_test)\n",
    "\n",
    "print(\"Optimized Random Forest Performance:\")\n",
    "print(\"MAE:\", mean_absolute_error(y_test, y_pred_best_rf))\n",
    "print(\"MSE:\", mean_squared_error(y_test, y_pred_best_rf))\n",
    "print(\"R²:\", r2_score(y_test, y_pred_best_rf))\n"
   ]
  },
  {
   "cell_type": "code",
   "execution_count": 96,
   "metadata": {},
   "outputs": [
    {
     "name": "stdout",
     "output_type": "stream",
     "text": [
      "Optimized Random Forest model saved as 'optimized_random_forest_model.pkl'\n"
     ]
    }
   ],
   "source": [
    "# import joblib\n",
    "\n",
    "# Save the best-tuned Random Forest model\n",
    "joblib.dump(best_rf, 'optimized_random_forest_model.pkl')\n",
    "joblib.dump(X_raw.columns.tolist(), r'PKL_Files/model_columns.pkl')  # Save column names\n",
    "\n",
    "print(\"Optimized Random Forest model saved as 'optimized_random_forest_model.pkl'\")\n"
   ]
  },
  {
   "cell_type": "code",
   "execution_count": 97,
   "metadata": {},
   "outputs": [
    {
     "data": {
      "text/plain": [
       "Index(['owner_no', 'model_year', 'registered_year', 'kms_driven',\n",
       "       'mileage_kmpl', 'engine_cc', 'car_age', 'model_age', 'registration_lag',\n",
       "       'normalized_model_age', 'price_per_km', 'mileage_normalized',\n",
       "       'high_mileage', 'multiple_owners', 'brand_popularity', 'kms_per_year',\n",
       "       'city_bangalore', 'city_chennai', 'city_delhi', 'city_hyderabad',\n",
       "       'city_jaipur', 'city_kolkata', 'transmission_automatic',\n",
       "       'transmission_manual', 'fuel_type_cng', 'fuel_type_diesel',\n",
       "       'fuel_type_lpg', 'fuel_type_petrol', 'brand_encoded',\n",
       "       'variant_name_encoded', 'model_encoded'],\n",
       "      dtype='object')"
      ]
     },
     "execution_count": 97,
     "metadata": {},
     "output_type": "execute_result"
    }
   ],
   "source": [
    "X_raw.columns"
   ]
  },
  {
   "cell_type": "code",
   "execution_count": 98,
   "metadata": {},
   "outputs": [
    {
     "data": {
      "text/plain": [
       "Index(['owner_no', 'model_year', 'registered_year', 'kms_driven',\n",
       "       'mileage_kmpl', 'engine_cc', 'car_age', 'model_age', 'registration_lag',\n",
       "       'normalized_model_age', 'price_per_km', 'mileage_normalized',\n",
       "       'high_mileage', 'multiple_owners', 'brand_popularity', 'kms_per_year',\n",
       "       'city_bangalore', 'city_chennai', 'city_delhi', 'city_hyderabad',\n",
       "       'city_jaipur', 'city_kolkata', 'transmission_automatic',\n",
       "       'transmission_manual', 'fuel_type_cng', 'fuel_type_diesel',\n",
       "       'fuel_type_lpg', 'fuel_type_petrol', 'brand_encoded',\n",
       "       'variant_name_encoded', 'model_encoded'],\n",
       "      dtype='object')"
      ]
     },
     "execution_count": 98,
     "metadata": {},
     "output_type": "execute_result"
    }
   ],
   "source": [
    "X_scaled.columns"
   ]
  },
  {
   "cell_type": "code",
   "execution_count": null,
   "metadata": {},
   "outputs": [],
   "source": []
  }
 ],
 "metadata": {
  "kernelspec": {
   "display_name": "Python 3",
   "language": "python",
   "name": "python3"
  },
  "language_info": {
   "codemirror_mode": {
    "name": "ipython",
    "version": 3
   },
   "file_extension": ".py",
   "mimetype": "text/x-python",
   "name": "python",
   "nbconvert_exporter": "python",
   "pygments_lexer": "ipython3",
   "version": "3.12.4"
  }
 },
 "nbformat": 4,
 "nbformat_minor": 2
}
