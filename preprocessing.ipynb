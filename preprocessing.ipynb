{
 "cells": [
  {
   "cell_type": "code",
   "execution_count": null,
   "metadata": {},
   "outputs": [],
   "source": [
    "# import packages\n",
    "import pandas as pd\n",
    "import json"
   ]
  },
  {
   "cell_type": "code",
   "execution_count": 343,
   "metadata": {},
   "outputs": [],
   "source": [
    "file_paths = {\n",
    "    'Bangalore': 'Raw_Datasets/bangalore_cars.xlsx',\n",
    "    'Chennai': 'Raw_Datasets/chennai_cars.xlsx',\n",
    "    'Delhi': 'Raw_Datasets/delhi_cars.xlsx',\n",
    "    'Hyderabad': 'Raw_Datasets/hyderabad_cars.xlsx',\n",
    "    'Jaipur': 'Raw_Datasets/jaipur_cars.xlsx',\n",
    "    'Kolkata': 'Raw_Datasets/kolkata_cars.xlsx'\n",
    "}"
   ]
  },
  {
   "cell_type": "code",
   "execution_count": 344,
   "metadata": {},
   "outputs": [],
   "source": [
    "dataframes = []\n",
    "\n",
    "def add_city_and_concatenate(file_paths):\n",
    "    for city,path in file_paths.items():\n",
    "        df = pd.read_excel(path)\n",
    "        df[\"city\"] = city\n",
    "        dataframes.append(df)\n",
    "    return pd.concat(dataframes,ignore_index=True)\n",
    "\n",
    "concatenated_df = add_city_and_concatenate(file_paths)\n"
   ]
  },
  {
   "cell_type": "code",
   "execution_count": 345,
   "metadata": {},
   "outputs": [],
   "source": [
    "def convert_jsonstr_to_dict(df):\n",
    "    columns_to_be_checked = ['new_car_overview', 'new_car_feature', 'new_car_specs']\n",
    "    for column in columns_to_be_checked:\n",
    "        df[column] = df[column].apply(lambda x: eval(x) if isinstance(x,str) else x)\n",
    "    return df"
   ]
  },
  {
   "cell_type": "code",
   "execution_count": 346,
   "metadata": {},
   "outputs": [],
   "source": [
    "def format_new_car_overview(record):\n",
    "    temp_dict = {}\n",
    "    top_items = record.get(\"top\",[])\n",
    "    for item in top_items:\n",
    "        key = item.get(\"key\")\n",
    "        value = item.get(\"value\")\n",
    "        temp_dict[key] = value\n",
    "    return temp_dict"
   ]
  },
  {
   "cell_type": "code",
   "execution_count": 347,
   "metadata": {},
   "outputs": [],
   "source": [
    "def format_new_car_feature(record):\n",
    "    temp_list = []\n",
    "    top_items = record.get(\"top\", [])\n",
    "    for item in top_items:\n",
    "        temp_list.append(item['value'])\n",
    "\n",
    "    data_items = record.get(\"data\", [])\n",
    "    for item in data_items:\n",
    "        sub_items = item.get(\"list\", [])\n",
    "        for sub_item in sub_items:\n",
    "            temp_list.append(sub_item['value'])\n",
    "\n",
    "    return temp_list\n"
   ]
  },
  {
   "cell_type": "code",
   "execution_count": 348,
   "metadata": {},
   "outputs": [],
   "source": [
    "def format_new_car_specs(record):\n",
    "    temp_dict = {}\n",
    "\n",
    "    top_items = record.get(\"top\",[])\n",
    "    for item in top_items:\n",
    "        if 'key' in item and 'value' in item:\n",
    "            temp_dict[item['key']] = item['value']\n",
    "\n",
    "    data_items = record.get(\"data\",[])\n",
    "    for item in data_items:\n",
    "        sub_items = item.get(\"list\",[])\n",
    "        for item in sub_items:\n",
    "            if 'key' in item and 'value' in item:\n",
    "                temp_dict[item['key']] = item['value']\n",
    "\n",
    "    return temp_dict"
   ]
  },
  {
   "cell_type": "code",
   "execution_count": 349,
   "metadata": {},
   "outputs": [],
   "source": [
    "def apply_data_extraction_to_columns(formatted_df):\n",
    "    formatted_df['new_car_overview'] = formatted_df['new_car_overview'].apply(lambda x: format_new_car_overview(x) if isinstance(x,dict) else x)\n",
    "    formatted_df['new_car_feature'] = formatted_df['new_car_feature'].apply(lambda x: format_new_car_feature(x) if isinstance(x,dict) else x)\n",
    "    formatted_df['new_car_specs'] = formatted_df['new_car_specs'].apply(lambda x: format_new_car_specs(x) if isinstance(x,dict) else x)\n",
    "    return formatted_df"
   ]
  },
  {
   "cell_type": "code",
   "execution_count": 350,
   "metadata": {},
   "outputs": [],
   "source": [
    "concatenated_df = add_city_and_concatenate(file_paths)\n",
    "formatted_df = convert_jsonstr_to_dict(concatenated_df)\n",
    "df = apply_data_extraction_to_columns(formatted_df)\n"
   ]
  },
  {
   "cell_type": "code",
   "execution_count": 352,
   "metadata": {},
   "outputs": [],
   "source": [
    "df.to_excel(\"df.xlsx\",engine=\"openpyxl\",index=False)"
   ]
  }
 ],
 "metadata": {
  "kernelspec": {
   "display_name": "Python 3",
   "language": "python",
   "name": "python3"
  },
  "language_info": {
   "codemirror_mode": {
    "name": "ipython",
    "version": 3
   },
   "file_extension": ".py",
   "mimetype": "text/x-python",
   "name": "python",
   "nbconvert_exporter": "python",
   "pygments_lexer": "ipython3",
   "version": "3.12.4"
  }
 },
 "nbformat": 4,
 "nbformat_minor": 2
}
